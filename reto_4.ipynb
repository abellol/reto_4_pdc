{
 "cells": [
  {
   "cell_type": "markdown",
   "metadata": {},
   "source": [
    "## Ejercicio 1\n",
    "### Dado un número entero, determinar si ese número corresponde al código ASCII de una vocal minúscula."
   ]
  },
  {
   "cell_type": "code",
   "execution_count": 21,
   "metadata": {},
   "outputs": [
    {
     "name": "stdout",
     "output_type": "stream",
     "text": [
      "Escriba un numero positivo:\n",
      "no es un numero positivo\n"
     ]
    }
   ],
   "source": [
    "print(\"Escriba un numero positivo:\")\n",
    "num = input()\n",
    "try:\n",
    "    a=int(num)\n",
    "    b=chr(a)\n",
    "    print(b) \n",
    "    match b:\n",
    "        case \"a\":\n",
    "            print(\"El código\", a, \"peretence a la vocal a del código ASCII\")\n",
    "        case \"e\":\n",
    "            print(\"El código\", a, \"peretence a la vocal e del código ASCII\")\n",
    "        case \"i\":\n",
    "            print(\"El código\", a, \"peretence a la vocal i del código ASCII\")\n",
    "        case \"o\":\n",
    "            print(\"El código\", a, \"peretence a la vocal o del código ASCII\")\n",
    "        case \"u\":\n",
    "            print(\"El código\", a, \"peretence a la vocal u del código ASCII\")\n",
    "        case _:\n",
    "            print(\"El código\", a, \"no pertenece a ninguna vocal del código ASCII\")\n",
    "except ValueError:\n",
    "    print(\"no es un numero positivo\")"
   ]
  },
  {
   "cell_type": "markdown",
   "metadata": {},
   "source": [
    "## Ejercicio 2\n",
    "### Dada una cadena de longitud 1, determine si el código ASCII de primera letra de la cadena es par o no."
   ]
  },
  {
   "cell_type": "code",
   "execution_count": 19,
   "metadata": {},
   "outputs": [
    {
     "name": "stdout",
     "output_type": "stream",
     "text": [
      "escriba un (1) caracter:\n",
      "42\n",
      "El primer digito del codigo ASCII del caracter * es par\n"
     ]
    }
   ],
   "source": [
    "print(\"escriba un (1) caracter:\")\n",
    "txt = input()\n",
    "try: \n",
    "    len(txt) == 1\n",
    "    b=ord(txt)\n",
    "    print(b)\n",
    "    x=str(b)\n",
    "    y=int(x[0])\n",
    "    \n",
    "    if y % 2 == 0:\n",
    "        print(\"El primer digito del codigo ASCII del caracter\", txt, \"es par\")\n",
    "    else:\n",
    "        print(\"El primer digito del codigo ASCII del caracter\", txt, \"no es par\")\n",
    "except TypeError:\n",
    "    print(\"no es un (1) caracter\")"
   ]
  },
  {
   "cell_type": "markdown",
   "metadata": {},
   "source": [
    "## Ejercicio 3\n",
    "### Dado un carácter, construya un programa en Python para determinar si el carácter es un dígito o no."
   ]
  },
  {
   "cell_type": "code",
   "execution_count": 82,
   "metadata": {},
   "outputs": [
    {
     "name": "stdout",
     "output_type": "stream",
     "text": [
      "Escriba una cadena caracteres\n",
      "Su caracter alejo no es un digito\n"
     ]
    }
   ],
   "source": [
    "print(\"Escriba una cadena caracteres\")\n",
    "c = input()\n",
    "\n",
    "len(c) == 1\n",
    "if c.isalpha() ==True:\n",
    "    print(\"Su caracter\", c, \"no es un digito\")\n",
    "elif c.isdigit() == True:\n",
    "    print(\"Su caracter\", c, \"es un digito\")\n",
    "else:\n",
    "    print(\"su caracter\",c, \"no es un digito\")\n"
   ]
  },
  {
   "cell_type": "markdown",
   "metadata": {},
   "source": [
    "## Ejercicio 4\n",
    "### Dado un número real x, construya un programa que permita determinar si el número es positivo, negativo o cero."
   ]
  },
  {
   "cell_type": "code",
   "execution_count": 18,
   "metadata": {},
   "outputs": [
    {
     "name": "stdout",
     "output_type": "stream",
     "text": [
      "Escriba un numero real:\n",
      "El número -20.0 es negativo\n"
     ]
    }
   ],
   "source": [
    "print(\"Escriba un numero real:\")\n",
    "x = input()\n",
    "try:\n",
    "    x=float(x)\n",
    "    if x > 0:\n",
    "        print(\"El número\",x, \"es positivo\")\n",
    "    elif x < 0:\n",
    "        print(\"El número\", x, \"es negativo\")\n",
    "    elif x == 0:\n",
    "        print (\"El número\", x, \"es el neutro para la suma\")\n",
    "except ValueError:\n",
    "    print(\"el caracter\", x, \"no es un numero real\")"
   ]
  },
  {
   "cell_type": "markdown",
   "metadata": {},
   "source": [
    "## Ejercicio 5\n",
    "### Dado el centro y el radio de un círculo, determinar si un punto de R2 pertenece o no al interior del círculo."
   ]
  },
  {
   "cell_type": "code",
   "execution_count": 4,
   "metadata": {},
   "outputs": [
    {
     "name": "stdout",
     "output_type": "stream",
     "text": [
      "La coordenada ingresada ( 9.0  ,  3.0 ) se encuentra dentro del circulo formado por el centro ( 5.0  ,  4.0 ) con radio  6.0\n"
     ]
    }
   ],
   "source": [
    "centro1 : float\n",
    "centro2 : float\n",
    "radio : float\n",
    "punto1 : float\n",
    "punto2 : float\n",
    "try:\n",
    "    centro1 = float(input(\"Ingrese la coordenada x para el centro del circulo: \"))\n",
    "    centro2 = float(input(\"Ingrese la coordenada y para el centro del circulo: \"))\n",
    "    radio = float(input(\"Ingrese el radio del circulo: \"))\n",
    "    punto1 = float(input(\"Ingrese la coordenada x del punto a verificar: \"))\n",
    "    punto2 = float(input(\"Ingrese la coordenada y del punto a verificar: \"))\n",
    "   \n",
    "    if (punto1 - centro1)**2 + (punto2- centro2)** 2<= radio**2:\n",
    "        print(\"La coordenada ingresada (\" ,punto1, \" , \" ,punto2, \") se encuentra dentro del circulo formado por el centro (\" ,centro1, \" , \" ,centro2, \") con radio \" ,radio)\n",
    "    else:\n",
    "        print(\"La coordenada ingresada (\" ,punto1, \" , \" ,punto2, \") no se encuentra dentro del circulo formado por el centro (\" ,centro1, \" , \" ,centro2, \") con radio \" ,radio)\n",
    "except ValueError:\n",
    "    print(\"El valor ingresado no es un numero real\")"
   ]
  },
  {
   "cell_type": "markdown",
   "metadata": {},
   "source": [
    "## Ejercicio 6\n",
    "### Dadas tres longitudes positivas, determinar si con esas longitudes se puede construir un triángulo."
   ]
  },
  {
   "cell_type": "code",
   "execution_count": 4,
   "metadata": {},
   "outputs": [
    {
     "name": "stdout",
     "output_type": "stream",
     "text": [
      "no es un numero\n"
     ]
    }
   ],
   "source": [
    "long1 = (input (\"Escriba la primera longitud positiva:\", ))\n",
    "long2 = (input (\"Escriba la segunda longitud positiva:\", ))\n",
    "long3 = (input (\"Escriba la tercera longitud positiva:\", ))\n",
    "t = \"Las medidas no pueden formar un triangulo\"\n",
    "try:\n",
    "    a= abs(float(long1))\n",
    "    b= abs(float(long2))\n",
    "    c= abs(float(long3))\n",
    "    print(a)\n",
    "    print(b)\n",
    "    print(c)\n",
    "    if a + b < c:\n",
    "        print (t)\n",
    "    elif b + c < a:\n",
    "        print(t)\n",
    "    elif a + c < b:\n",
    "        print(t)\n",
    "    else:\n",
    "        print(\"las medidas si pueden formar un triangulo\")\n",
    "except ValueError:\n",
    "    print(\"alguna dimension no es un numero\")"
   ]
  }
 ],
 "metadata": {
  "kernelspec": {
   "display_name": "Python 3",
   "language": "python",
   "name": "python3"
  },
  "language_info": {
   "codemirror_mode": {
    "name": "ipython",
    "version": 3
   },
   "file_extension": ".py",
   "mimetype": "text/x-python",
   "name": "python",
   "nbconvert_exporter": "python",
   "pygments_lexer": "ipython3",
   "version": "3.11.8"
  }
 },
 "nbformat": 4,
 "nbformat_minor": 2
}
